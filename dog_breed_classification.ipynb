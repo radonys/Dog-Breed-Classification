{
  "nbformat": 4,
  "nbformat_minor": 0,
  "metadata": {
    "colab": {
      "name": "dog_breed_classification.ipynb",
      "version": "0.3.2",
      "provenance": [],
      "collapsed_sections": [],
      "toc_visible": true,
      "include_colab_link": true
    },
    "kernelspec": {
      "name": "python3",
      "display_name": "Python 3"
    },
    "accelerator": "GPU"
  },
  "cells": [
    {
      "cell_type": "markdown",
      "metadata": {
        "id": "view-in-github",
        "colab_type": "text"
      },
      "source": [
        "<a href=\"https://colab.research.google.com/github/radonys/Dog-Breed-Classification/blob/master/dog_breed_classification.ipynb\" target=\"_parent\"><img src=\"https://colab.research.google.com/assets/colab-badge.svg\" alt=\"Open In Colab\"/></a>"
      ]
    },
    {
      "metadata": {
        "id": "xa4RiCM06Vya",
        "colab_type": "text"
      },
      "cell_type": "markdown",
      "source": [
        "## Dog Breed Identification\n",
        "\n",
        "Kaggle Challenge link: [Dog Breed Identification](https://www.kaggle.com/c/dog-breed-identification)"
      ]
    },
    {
      "metadata": {
        "id": "WSSDsAmc60NT",
        "colab_type": "text"
      },
      "cell_type": "markdown",
      "source": [
        "### Installing required modules"
      ]
    },
    {
      "metadata": {
        "id": "4HjkmXNzan2R",
        "colab_type": "code",
        "colab": {}
      },
      "cell_type": "code",
      "source": [
        "!pip install tensorboardX\n",
        "!pip install http://download.pytorch.org/whl/cu80/torch-0.4.1-cp36-cp36m-linux_x86_64.whl\n",
        "!pip install torchvision\n",
        "!pip install numpy\n",
        "!pip install matplotlib\n",
        "!pip install kaggle\n",
        "!pip install pillow==4.0.0"
      ],
      "execution_count": 0,
      "outputs": []
    },
    {
      "metadata": {
        "id": "kFdIq86u6_kH",
        "colab_type": "text"
      },
      "cell_type": "markdown",
      "source": [
        "### Imports"
      ]
    },
    {
      "metadata": {
        "scrolled": false,
        "id": "ALElHS8Tan2V",
        "colab_type": "code",
        "colab": {}
      },
      "cell_type": "code",
      "source": [
        "from __future__ import print_function \n",
        "from __future__ import division\n",
        "import torch\n",
        "import torch.nn as nn\n",
        "import torch.optim as optim\n",
        "import numpy as np\n",
        "import torchvision\n",
        "from torchvision import datasets, models, transforms\n",
        "import matplotlib.pyplot as plt\n",
        "import time\n",
        "import os\n",
        "import copy\n",
        "from tensorboardX import SummaryWriter\n",
        "import csv\n",
        "import zipfile\n",
        "import shutil\n"
      ],
      "execution_count": 0,
      "outputs": []
    },
    {
      "metadata": {
        "id": "_bIJL1Pqan2Z",
        "colab_type": "code",
        "colab": {}
      },
      "cell_type": "code",
      "source": [
        "print(\"PyTorch Version: \",torch.__version__)\n",
        "print(\"Torchvision Version: \",torchvision.__version__)"
      ],
      "execution_count": 0,
      "outputs": []
    },
    {
      "metadata": {
        "id": "LoQHLfJP7G40",
        "colab_type": "text"
      },
      "cell_type": "markdown",
      "source": [
        "### Dataset download\n",
        "\n",
        "Kaggle API is used to download the dataset. To use Kaggle API, we need to have a ***kaggle.json*** file which contains the **username** and the **API key**. To obtain the **json file**, follow the instructions provided  in the link: [Kaggle API GitHub](https://github.com/Kaggle/kaggle-api)\n",
        "\n",
        "The program asks to upload the ***kaggle.json*** file during execution."
      ]
    },
    {
      "metadata": {
        "colab_type": "code",
        "id": "ir8n0NSIu3-3",
        "colab": {}
      },
      "cell_type": "code",
      "source": [
        "!mkdir -p ~/.kaggle\n",
        "from google.colab import files\n",
        "print('Upload the kaggle.json file now')\n",
        "files.upload()\n",
        "!cp kaggle.json ~/.kaggle/\n",
        "!kaggle competitions download -c dog-breed-identification\n",
        "!mkdir all/\n",
        "!mv *.zip all/\n",
        "!ls all/\n",
        "!unzip all/labels.csv \n",
        "!unzip all/sample_submission.csv\n",
        "!mv *.csv all/\n",
        "!rm all/labels.csv.zip all/sample_submission.csv.zip\n",
        "!rm kaggle.json"
      ],
      "execution_count": 0,
      "outputs": []
    },
    {
      "metadata": {
        "id": "y8uRL0AI8m_y",
        "colab_type": "text"
      },
      "cell_type": "markdown",
      "source": [
        "### Dataset Seperation according to labels"
      ]
    },
    {
      "metadata": {
        "id": "CQQIvaYXthBi",
        "colab_type": "code",
        "colab": {}
      },
      "cell_type": "code",
      "source": [
        "labels = set()\n",
        "if os.path.exists('all/'):\n",
        "\n",
        "\twith open('all/labels.csv', mode='r') as csv_file:\n",
        "\n",
        "\t\tcsv_reader = csv.DictReader(csv_file)\n",
        "\t\tline_count = 0\n",
        "\t\tdirectory = 'all/train_images/'\n",
        "\n",
        "\t\tif not os.path.exists(directory):\n",
        "\t\t\tos.makedirs(directory)\n",
        "\n",
        "\n",
        "\t\tfor row in csv_reader:\n",
        "\n",
        "\t\t\tif line_count == 0:\n",
        "\n",
        "\t\t\t\tprint('Column names are', {\", \".join(row)})\n",
        "\t\t\t\tline_count += 1\n",
        "\n",
        "\t\t\tid_value = str(row[\"id\"])\n",
        "\t\t\tbreed = str(row[\"breed\"])\n",
        "\n",
        "\t\t\tif not os.path.exists(os.path.join(directory, breed)):\n",
        "\t\t\t\tos.makedirs(os.path.join(directory, breed))\n",
        "\n",
        "\t\t\ttraindir = 'all/train/'\n",
        "\n",
        "\t\t\tif not os.path.exists(traindir):\n",
        "\n",
        "\t\t\t\tzip_ref = zipfile.ZipFile('all/train.zip', 'r')\n",
        "\t\t\t\tzip_ref.extractall('all/')\n",
        "\t\t\t\tzip_ref.close()\n",
        "\n",
        "\t\t\tprev_dir = str(os.path.join(traindir, id_value + '.jpg'))\n",
        "\t\t\tnew_dir = str(os.path.join(directory, breed, id_value + '.jpg'))\n",
        "\t\t\t\t\n",
        "\t\t\tif os.path.exists(os.path.join(traindir, id_value + '.jpg')):\n",
        "\t\t\t\tshutil.move(prev_dir, new_dir)\n",
        "\n",
        "\t\t\tline_count +=1\n",
        "\n",
        "\t\tprint('Processed lines: ', line_count)\n",
        "\t\tos.rmdir(traindir)\n",
        "\t\tos.rename('all/train_images', 'all/train')\n",
        "\n",
        "else:\n",
        "\tprint('Data directory not found.')\n",
        "  \n",
        "zip_ref = zipfile.ZipFile('all/test.zip', 'r')\n",
        "zip_ref.extractall('all/')\n",
        "zip_ref.close()\n",
        "labels = sorted(list(labels))"
      ],
      "execution_count": 0,
      "outputs": []
    },
    {
      "metadata": {
        "id": "pRQUc1BV85fz",
        "colab_type": "text"
      },
      "cell_type": "markdown",
      "source": [
        "### Variable Declarations"
      ]
    },
    {
      "metadata": {
        "id": "xR8Yeu9Tan2g",
        "colab_type": "code",
        "colab": {}
      },
      "cell_type": "code",
      "source": [
        "writer = SummaryWriter()\n",
        "data_dir = \"all/\"\n",
        "model_name = \"resnet\"\n",
        "num_classes = 120\n",
        "batch_size = 8\n",
        "num_epochs = 25\n",
        "feature_extract = False"
      ],
      "execution_count": 0,
      "outputs": []
    },
    {
      "metadata": {
        "id": "m7nN4GyU9Iw8",
        "colab_type": "text"
      },
      "cell_type": "markdown",
      "source": [
        "### Train and Save Best Model"
      ]
    },
    {
      "metadata": {
        "id": "jqfgc2Y_an2i",
        "colab_type": "code",
        "colab": {}
      },
      "cell_type": "code",
      "source": [
        "def save_model(model,filename):\n",
        "\n",
        "    state = model.state_dict()\n",
        "    for key in state: state[key] = state[key].clone().cpu()\n",
        "\n",
        "    if not os.path.exists('all/saved_models/'):\n",
        "        os.makedirs('all/saved_models')\n",
        "\n",
        "    torch.save(state, os.path.join('all/saved_models',filename))"
      ],
      "execution_count": 0,
      "outputs": []
    },
    {
      "metadata": {
        "id": "42YgqHDran2l",
        "colab_type": "code",
        "colab": {}
      },
      "cell_type": "code",
      "source": [
        "def train_model(model, dataloaders, criterion, optimizer, num_epochs=25, is_inception=False):\n",
        "\n",
        "    since = time.time()\n",
        "\n",
        "    train_acc_history = []\n",
        "    \n",
        "    best_model_wts = copy.deepcopy(model.state_dict())\n",
        "    best_acc = 0.0\n",
        "\n",
        "    for epoch in range(0,num_epochs):\n",
        "\n",
        "        print('Epoch {}/{}'.format(epoch, num_epochs - 1))\n",
        "        print('-' * 10)\n",
        "\n",
        "        for phase in ['train']:\n",
        "            \n",
        "            if phase == 'train':\n",
        "                model.train()  # Set model to training mode\n",
        "\n",
        "            running_loss = 0.0\n",
        "            running_corrects = 0\n",
        "\n",
        "            # Iterate over data.\n",
        "            for inputs, labels in dataloaders[phase]:\n",
        "\n",
        "                inputs = inputs.to(device)\n",
        "                labels = labels.to(device)\n",
        "\n",
        "                optimizer.zero_grad()\n",
        "\n",
        "                with torch.set_grad_enabled(phase == 'train'):\n",
        "                    \n",
        "                    outputs = model(inputs)\n",
        "                    loss = criterion(outputs, labels)\n",
        "\n",
        "                    _, preds = torch.max(outputs, 1)\n",
        "\n",
        "                    if phase == 'train':\n",
        "                        loss.backward()\n",
        "                        optimizer.step()\n",
        "\n",
        "                # statistics\n",
        "                running_loss += loss.item() * inputs.size(0)\n",
        "                running_corrects += torch.sum(preds == labels.data)\n",
        "\n",
        "            epoch_loss = running_loss / len(dataloaders[phase].dataset)\n",
        "            epoch_acc = running_corrects.double() / len(dataloaders[phase].dataset)\n",
        "\n",
        "            print('{} Loss: {:.4f} Acc: {:.4f}'.format(phase, epoch_loss, epoch_acc))\n",
        "            writer.add_scalar('data/Training_Accuracy', 100.0*epoch_acc, epoch)\n",
        "            writer.add_scalar('data/Training_Loss', epoch_loss, epoch)\n",
        "\n",
        "            # deep copy the model\n",
        "            if epoch_acc > best_acc:\n",
        "\n",
        "                best_acc = epoch_acc\n",
        "                best_model_wts = copy.deepcopy(model.state_dict())\n",
        "                save_model(model, '{}_{}.pth'.format('dog-breed-resnet18',epoch))\n",
        "\n",
        "            train_acc_history.append(epoch_acc)\n",
        "\n",
        "        print()\n",
        "\n",
        "    time_elapsed = time.time() - since\n",
        "    print('Training complete in {:.0f}m {:.0f}s'.format(time_elapsed // 60, time_elapsed % 60))\n",
        "    print('Best Training Acc: {:4f}'.format(best_acc))\n",
        "\n",
        "    # load best model weights\n",
        "    model.load_state_dict(best_model_wts)\n",
        "    return model, train_acc_history"
      ],
      "execution_count": 0,
      "outputs": []
    },
    {
      "metadata": {
        "id": "m6fZC7ZS9SQA",
        "colab_type": "text"
      },
      "cell_type": "markdown",
      "source": [
        "### Finetuning setting and Initialize ResNet"
      ]
    },
    {
      "metadata": {
        "id": "0ch6jRzgan2p",
        "colab_type": "code",
        "colab": {}
      },
      "cell_type": "code",
      "source": [
        "def set_parameter_requires_grad(model, feature_extracting):\n",
        "    if feature_extracting:\n",
        "        for param in model.parameters():\n",
        "            param.requires_grad = False"
      ],
      "execution_count": 0,
      "outputs": []
    },
    {
      "metadata": {
        "id": "hM5gEGEAan2r",
        "colab_type": "code",
        "colab": {}
      },
      "cell_type": "code",
      "source": [
        "def initialize_model(model_name, num_classes, feature_extract, use_pretrained=True):\n",
        "    \n",
        "    model_ft = None\n",
        "    input_size = 0\n",
        "\n",
        "    if model_name == \"resnet\":\n",
        "        \"\"\" Resnet18\n",
        "        \"\"\"\n",
        "        model_ft = models.resnet18(pretrained=use_pretrained)\n",
        "        set_parameter_requires_grad(model_ft, feature_extract)\n",
        "        num_ftrs = model_ft.fc.in_features\n",
        "        model_ft.fc = nn.Linear(num_ftrs, num_classes)\n",
        "        input_size = 224\n",
        "\n",
        "    else:\n",
        "        print(\"Invalid model name, exiting...\")\n",
        "        exit()\n",
        "    \n",
        "    return model_ft, input_size"
      ],
      "execution_count": 0,
      "outputs": []
    },
    {
      "metadata": {
        "id": "aWJ3vpM5an2w",
        "colab_type": "code",
        "colab": {}
      },
      "cell_type": "code",
      "source": [
        "model_ft, input_size = initialize_model(model_name, num_classes, feature_extract, use_pretrained=True)\n",
        "print(model_ft)"
      ],
      "execution_count": 0,
      "outputs": []
    },
    {
      "metadata": {
        "id": "QPJqgahY9axR",
        "colab_type": "text"
      },
      "cell_type": "markdown",
      "source": [
        "### Data Augmentation and Loader"
      ]
    },
    {
      "metadata": {
        "id": "oXf2-1L2an20",
        "colab_type": "code",
        "colab": {}
      },
      "cell_type": "code",
      "source": [
        "data_transforms = {\n",
        "    'train': transforms.Compose([\n",
        "        transforms.RandomResizedCrop(input_size),\n",
        "        transforms.RandomHorizontalFlip(),\n",
        "        transforms.ToTensor(),\n",
        "        transforms.Normalize([0.485, 0.456, 0.406], [0.229, 0.224, 0.225])\n",
        "    ]),\n",
        "}\n",
        "\n",
        "print(\"Initializing Datasets and Dataloaders...\")\n",
        "\n",
        "image_datasets = {x: datasets.ImageFolder(os.path.join(data_dir, x), data_transforms[x]) for x in ['train']}\n",
        "print(image_datasets[\"train\"].classes)\n",
        "dataloaders_dict = {x: torch.utils.data.DataLoader(image_datasets[x], batch_size=batch_size, shuffle=True, num_workers=4) for x in ['train']}\n"
      ],
      "execution_count": 0,
      "outputs": []
    },
    {
      "metadata": {
        "id": "VhA0ZeFl9htU",
        "colab_type": "text"
      },
      "cell_type": "markdown",
      "source": [
        "### Check for GPU availiability"
      ]
    },
    {
      "metadata": {
        "id": "tOU8-f6Can23",
        "colab_type": "code",
        "colab": {}
      },
      "cell_type": "code",
      "source": [
        "device = torch.device(\"cuda:0\" if torch.cuda.is_available() else \"cpu\")\n",
        "print(device)\n",
        "model_ft = model_ft.to(device)\n",
        "print(model_ft)"
      ],
      "execution_count": 0,
      "outputs": []
    },
    {
      "metadata": {
        "id": "Dtn4Q5U29vkP",
        "colab_type": "text"
      },
      "cell_type": "markdown",
      "source": [
        "### Parameters to train, Optimizer and Loss Function"
      ]
    },
    {
      "metadata": {
        "id": "f0QgqtORan25",
        "colab_type": "code",
        "colab": {}
      },
      "cell_type": "code",
      "source": [
        "params_to_update = model_ft.parameters()\n",
        "print(\"Params to learn:\")\n",
        "\n",
        "if feature_extract:\n",
        "    params_to_update = []\n",
        "    for name,param in model_ft.named_parameters():\n",
        "        if param.requires_grad == True:\n",
        "            params_to_update.append(param)\n",
        "            print(\"\\t\",name)\n",
        "else:\n",
        "    for name,param in model_ft.named_parameters():\n",
        "        if param.requires_grad == True:\n",
        "            print(\"\\t\",name)"
      ],
      "execution_count": 0,
      "outputs": []
    },
    {
      "metadata": {
        "id": "lrqrUeIIan28",
        "colab_type": "code",
        "colab": {}
      },
      "cell_type": "code",
      "source": [
        "optimizer_ft = optim.SGD(params_to_update, lr=0.001, momentum=0.9)"
      ],
      "execution_count": 0,
      "outputs": []
    },
    {
      "metadata": {
        "id": "4NgJ4vKRan2-",
        "colab_type": "code",
        "colab": {}
      },
      "cell_type": "code",
      "source": [
        "#Load saved model, if any\n",
        "model_ft.load_state_dict(torch.load('all/saved_models/dog-breed-resnet18_24.pth'))"
      ],
      "execution_count": 0,
      "outputs": []
    },
    {
      "metadata": {
        "id": "TPuDFCNuan3B",
        "colab_type": "code",
        "colab": {}
      },
      "cell_type": "code",
      "source": [
        "criterion = nn.CrossEntropyLoss()"
      ],
      "execution_count": 0,
      "outputs": []
    },
    {
      "metadata": {
        "id": "jwkFjbU7Q4EY",
        "colab_type": "text"
      },
      "cell_type": "markdown",
      "source": [
        "### Train Model and Graph Plot"
      ]
    },
    {
      "metadata": {
        "id": "zApx7ddQan3F",
        "colab_type": "code",
        "colab": {}
      },
      "cell_type": "code",
      "source": [
        "model_ft, hist = train_model(model_ft, dataloaders_dict, criterion, optimizer_ft, num_epochs=num_epochs)\n",
        "\n",
        "ohist = []\n",
        "ohist = [h.cpu().numpy() for h in hist]\n",
        "plt.title(\"Training Accuracy vs. Number of Training Epochs\")\n",
        "plt.xlabel(\"Training Epochs\")\n",
        "plt.ylabel(\"Training Accuracy\")\n",
        "plt.plot(range(1,num_epochs+1),ohist,label=\"Pretrained over ImageNet\")\n",
        "plt.ylim((0,1.))\n",
        "plt.xticks(np.arange(1, num_epochs+1, 1.0))\n",
        "plt.legend()\n",
        "plt.savefig('train-vs-epoch.png')"
      ],
      "execution_count": 0,
      "outputs": []
    },
    {
      "metadata": {
        "id": "-Ct3usgUan3M",
        "colab_type": "code",
        "colab": {}
      },
      "cell_type": "code",
      "source": [
        ""
      ],
      "execution_count": 0,
      "outputs": []
    }
  ]
}