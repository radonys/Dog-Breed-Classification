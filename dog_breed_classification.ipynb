{
  "nbformat": 4,
  "nbformat_minor": 0,
  "metadata": {
    "colab": {
      "name": "dog_breed_classification.ipynb",
      "version": "0.3.2",
      "provenance": [],
      "collapsed_sections": [
        "WSSDsAmc60NT",
        "kFdIq86u6_kH",
        "LoQHLfJP7G40",
        "y8uRL0AI8m_y",
        "pRQUc1BV85fz",
        "m7nN4GyU9Iw8",
        "m6fZC7ZS9SQA",
        "QPJqgahY9axR",
        "VhA0ZeFl9htU",
        "Dtn4Q5U29vkP",
        "amv77dkBfFrC",
        "s0vTwCYNfPFT"
      ],
      "toc_visible": true,
      "include_colab_link": true
    },
    "kernelspec": {
      "name": "python3",
      "display_name": "Python 3"
    },
    "accelerator": "GPU"
  },
  "cells": [
    {
      "cell_type": "markdown",
      "metadata": {
        "id": "view-in-github",
        "colab_type": "text"
      },
      "source": [
        "<a href=\"https://colab.research.google.com/github/radonys/Dog-Breed-Classification/blob/master/dog_breed_classification.ipynb\" target=\"_parent\"><img src=\"https://colab.research.google.com/assets/colab-badge.svg\" alt=\"Open In Colab\"/></a>"
      ]
    },
    {
      "metadata": {
        "id": "xa4RiCM06Vya",
        "colab_type": "text"
      },
      "cell_type": "markdown",
      "source": [
        "## Dog Breed Identification\n",
        "\n",
        "Kaggle Challenge link: [Dog Breed Identification](https://www.kaggle.com/c/dog-breed-identification)"
      ]
    },
    {
      "metadata": {
        "id": "WSSDsAmc60NT",
        "colab_type": "text"
      },
      "cell_type": "markdown",
      "source": [
        "### Installing required modules"
      ]
    },
    {
      "metadata": {
        "id": "4HjkmXNzan2R",
        "colab_type": "code",
        "colab": {}
      },
      "cell_type": "code",
      "source": [
        "!pip install tensorboardX\n",
        "!pip install http://download.pytorch.org/whl/cu80/torch-0.4.1-cp36-cp36m-linux_x86_64.whl\n",
        "!pip install torchvision\n",
        "!pip install numpy\n",
        "!pip install matplotlib\n",
        "!pip install kaggle\n",
        "!pip install pillow==4.0.0"
      ],
      "execution_count": 0,
      "outputs": []
    },
    {
      "metadata": {
        "id": "kFdIq86u6_kH",
        "colab_type": "text"
      },
      "cell_type": "markdown",
      "source": [
        "### Imports"
      ]
    },
    {
      "metadata": {
        "scrolled": false,
        "id": "ALElHS8Tan2V",
        "colab_type": "code",
        "colab": {}
      },
      "cell_type": "code",
      "source": [
        "from __future__ import print_function \n",
        "from __future__ import division\n",
        "import torch\n",
        "import torch.nn as nn\n",
        "import torch.optim as optim\n",
        "import numpy as np\n",
        "import torchvision\n",
        "from torchvision import datasets, models, transforms\n",
        "import matplotlib.pyplot as plt\n",
        "import time\n",
        "import os\n",
        "import copy\n",
        "from tensorboardX import SummaryWriter\n",
        "import csv\n",
        "import zipfile\n",
        "import shutil\n",
        "from PIL import Image\n",
        "import torch.nn.functional as F\n"
      ],
      "execution_count": 0,
      "outputs": []
    },
    {
      "metadata": {
        "id": "_bIJL1Pqan2Z",
        "colab_type": "code",
        "colab": {
          "base_uri": "https://localhost:8080/",
          "height": 51
        },
        "outputId": "520f3775-1ec3-4a0b-a51a-c58cadfb4405"
      },
      "cell_type": "code",
      "source": [
        "print(\"PyTorch Version: \",torch.__version__)\n",
        "print(\"Torchvision Version: \",torchvision.__version__)"
      ],
      "execution_count": 3,
      "outputs": [
        {
          "output_type": "stream",
          "text": [
            "PyTorch Version:  0.4.1\n",
            "Torchvision Version:  0.2.1\n"
          ],
          "name": "stdout"
        }
      ]
    },
    {
      "metadata": {
        "id": "LoQHLfJP7G40",
        "colab_type": "text"
      },
      "cell_type": "markdown",
      "source": [
        "### Dataset download\n",
        "\n",
        "Kaggle API is used to download the dataset. To use Kaggle API, we need to have a ***kaggle.json*** file which contains the **username** and the **API key**. To obtain the **json file**, follow the instructions provided  in the link: [Kaggle API GitHub](https://github.com/Kaggle/kaggle-api)\n",
        "\n",
        "The program asks to upload the ***kaggle.json*** file during execution."
      ]
    },
    {
      "metadata": {
        "colab_type": "code",
        "id": "ir8n0NSIu3-3",
        "colab": {}
      },
      "cell_type": "code",
      "source": [
        "!mkdir -p ~/.kaggle\n",
        "from google.colab import files\n",
        "print('Upload the kaggle.json file now')\n",
        "files.upload()\n",
        "!cp kaggle.json ~/.kaggle/\n",
        "!kaggle competitions download -c dog-breed-identification\n",
        "!mkdir all/\n",
        "!mv *.zip all/\n",
        "!ls all/\n",
        "!unzip all/labels.csv \n",
        "!unzip all/sample_submission.csv\n",
        "!mv *.csv all/\n",
        "!rm all/labels.csv.zip all/sample_submission.csv.zip\n",
        "!rm kaggle.json"
      ],
      "execution_count": 0,
      "outputs": []
    },
    {
      "metadata": {
        "id": "y8uRL0AI8m_y",
        "colab_type": "text"
      },
      "cell_type": "markdown",
      "source": [
        "### Dataset Seperation according to labels"
      ]
    },
    {
      "metadata": {
        "id": "CQQIvaYXthBi",
        "colab_type": "code",
        "colab": {}
      },
      "cell_type": "code",
      "source": [
        "labels = set()\n",
        "if os.path.exists('all/'):\n",
        "\n",
        "\twith open('all/labels.csv', mode='r') as csv_file:\n",
        "\n",
        "\t\tcsv_reader = csv.DictReader(csv_file)\n",
        "\t\tline_count = 0\n",
        "\t\tdirectory = 'all/train_images/'\n",
        "\n",
        "\t\tif not os.path.exists(directory):\n",
        "\t\t\tos.makedirs(directory)\n",
        "\n",
        "\n",
        "\t\tfor row in csv_reader:\n",
        "\n",
        "\t\t\tif line_count == 0:\n",
        "\n",
        "\t\t\t\tprint('Column names are', {\", \".join(row)})\n",
        "\t\t\t\tline_count += 1\n",
        "\n",
        "\t\t\tid_value = str(row[\"id\"])\n",
        "\t\t\tbreed = str(row[\"breed\"])\n",
        "\n",
        "\t\t\tif not os.path.exists(os.path.join(directory, breed)):\n",
        "\t\t\t\tos.makedirs(os.path.join(directory, breed))\n",
        "\n",
        "\t\t\ttraindir = 'all/train/'\n",
        "\n",
        "\t\t\tif not os.path.exists(traindir):\n",
        "\n",
        "\t\t\t\tzip_ref = zipfile.ZipFile('all/train.zip', 'r')\n",
        "\t\t\t\tzip_ref.extractall('all/')\n",
        "\t\t\t\tzip_ref.close()\n",
        "\n",
        "\t\t\tprev_dir = str(os.path.join(traindir, id_value + '.jpg'))\n",
        "\t\t\tnew_dir = str(os.path.join(directory, breed, id_value + '.jpg'))\n",
        "\t\t\t\t\n",
        "\t\t\tif os.path.exists(os.path.join(traindir, id_value + '.jpg')):\n",
        "\t\t\t\tshutil.move(prev_dir, new_dir)\n",
        "\n",
        "\t\t\tline_count +=1\n",
        "\n",
        "\t\tprint('Processed lines: ', line_count)\n",
        "\t\tos.rmdir(traindir)\n",
        "\t\tos.rename('all/train_images', 'all/train')\n",
        "\n",
        "else:\n",
        "\tprint('Data directory not found.')\n",
        "  \n",
        "zip_ref = zipfile.ZipFile('all/test.zip', 'r')\n",
        "zip_ref.extractall('all/')\n",
        "zip_ref.close()\n",
        "labels = sorted(list(labels))"
      ],
      "execution_count": 0,
      "outputs": []
    },
    {
      "metadata": {
        "id": "pRQUc1BV85fz",
        "colab_type": "text"
      },
      "cell_type": "markdown",
      "source": [
        "### Variable Declarations"
      ]
    },
    {
      "metadata": {
        "id": "xR8Yeu9Tan2g",
        "colab_type": "code",
        "colab": {}
      },
      "cell_type": "code",
      "source": [
        "writer = SummaryWriter()\n",
        "data_dir = \"all/\"\n",
        "model_name = \"resnet\"\n",
        "num_classes = 120\n",
        "batch_size = 8\n",
        "num_epochs = 100\n",
        "feature_extract = False"
      ],
      "execution_count": 0,
      "outputs": []
    },
    {
      "metadata": {
        "id": "m7nN4GyU9Iw8",
        "colab_type": "text"
      },
      "cell_type": "markdown",
      "source": [
        "### Train and Save Best Model"
      ]
    },
    {
      "metadata": {
        "id": "jqfgc2Y_an2i",
        "colab_type": "code",
        "colab": {}
      },
      "cell_type": "code",
      "source": [
        "def save_model(model,filename):\n",
        "\n",
        "    state = model.state_dict()\n",
        "    for key in state: state[key] = state[key].clone().cpu()\n",
        "\n",
        "    if not os.path.exists('all/saved_models/'):\n",
        "        os.makedirs('all/saved_models')\n",
        "\n",
        "    torch.save(state, os.path.join('all/saved_models',filename))"
      ],
      "execution_count": 0,
      "outputs": []
    },
    {
      "metadata": {
        "id": "42YgqHDran2l",
        "colab_type": "code",
        "colab": {}
      },
      "cell_type": "code",
      "source": [
        "def train_model(model, dataloaders, criterion, optimizer, num_epochs=25, is_inception=False):\n",
        "\n",
        "    since = time.time()\n",
        "\n",
        "    train_acc_history = []\n",
        "    \n",
        "    best_model_wts = copy.deepcopy(model.state_dict())\n",
        "    best_acc = 0.0\n",
        "\n",
        "    for epoch in range(0,num_epochs):\n",
        "\n",
        "        print('Epoch {}/{}'.format(epoch, num_epochs - 1))\n",
        "        print('-' * 10)\n",
        "\n",
        "        for phase in ['train']:\n",
        "            \n",
        "            if phase == 'train':\n",
        "                model.train()  # Set model to training mode\n",
        "\n",
        "            running_loss = 0.0\n",
        "            running_corrects = 0\n",
        "\n",
        "            # Iterate over data.\n",
        "            for inputs, labels in dataloaders[phase]:\n",
        "\n",
        "                inputs = inputs.to(device)\n",
        "                labels = labels.to(device)\n",
        "\n",
        "                optimizer.zero_grad()\n",
        "\n",
        "                with torch.set_grad_enabled(phase == 'train'):\n",
        "                    \n",
        "                    outputs = model(inputs)\n",
        "                    loss = criterion(outputs, labels)\n",
        "\n",
        "                    _, preds = torch.max(outputs, 1)\n",
        "\n",
        "                    if phase == 'train':\n",
        "                        loss.backward()\n",
        "                        optimizer.step()\n",
        "\n",
        "                # statistics\n",
        "                running_loss += loss.item() * inputs.size(0)\n",
        "                running_corrects += torch.sum(preds == labels.data)\n",
        "\n",
        "            epoch_loss = running_loss / len(dataloaders[phase].dataset)\n",
        "            epoch_acc = running_corrects.double() / len(dataloaders[phase].dataset)\n",
        "\n",
        "            print('{} Loss: {:.4f} Acc: {:.4f}'.format(phase, epoch_loss, epoch_acc))\n",
        "            writer.add_scalar('data/Training_Accuracy', 100.0*epoch_acc, epoch)\n",
        "            writer.add_scalar('data/Training_Loss', epoch_loss, epoch)\n",
        "\n",
        "            # deep copy the model\n",
        "            if epoch_acc > best_acc:\n",
        "\n",
        "                best_acc = epoch_acc\n",
        "                best_model_wts = copy.deepcopy(model.state_dict())\n",
        "                save_model(model, '{}_{}.pth'.format('dog-breed-resnet18',epoch))\n",
        "\n",
        "            train_acc_history.append(epoch_acc)\n",
        "\n",
        "        print()\n",
        "\n",
        "    time_elapsed = time.time() - since\n",
        "    print('Training complete in {:.0f}m {:.0f}s'.format(time_elapsed // 60, time_elapsed % 60))\n",
        "    print('Best Training Acc: {:4f}'.format(best_acc))\n",
        "\n",
        "    # load best model weights\n",
        "    model.load_state_dict(best_model_wts)\n",
        "    return model, train_acc_history"
      ],
      "execution_count": 0,
      "outputs": []
    },
    {
      "metadata": {
        "id": "m6fZC7ZS9SQA",
        "colab_type": "text"
      },
      "cell_type": "markdown",
      "source": [
        "### Finetuning setting and Initialize ResNet"
      ]
    },
    {
      "metadata": {
        "id": "0ch6jRzgan2p",
        "colab_type": "code",
        "colab": {}
      },
      "cell_type": "code",
      "source": [
        "def set_parameter_requires_grad(model, feature_extracting):\n",
        "    if feature_extracting:\n",
        "        for param in model.parameters():\n",
        "            param.requires_grad = False"
      ],
      "execution_count": 0,
      "outputs": []
    },
    {
      "metadata": {
        "id": "hM5gEGEAan2r",
        "colab_type": "code",
        "colab": {}
      },
      "cell_type": "code",
      "source": [
        "def initialize_model(model_name, num_classes, feature_extract, use_pretrained=True):\n",
        "    \n",
        "    model_ft = None\n",
        "    input_size = 0\n",
        "\n",
        "    if model_name == \"resnet\":\n",
        "        \"\"\" Resnet18\n",
        "        \"\"\"\n",
        "        model_ft = models.resnet18(pretrained=use_pretrained)\n",
        "        set_parameter_requires_grad(model_ft, feature_extract)\n",
        "        num_ftrs = model_ft.fc.in_features\n",
        "        model_ft.fc = nn.Linear(num_ftrs, num_classes)\n",
        "        input_size = 224\n",
        "\n",
        "    else:\n",
        "        print(\"Invalid model name, exiting...\")\n",
        "        exit()\n",
        "    \n",
        "    return model_ft, input_size"
      ],
      "execution_count": 0,
      "outputs": []
    },
    {
      "metadata": {
        "id": "aWJ3vpM5an2w",
        "colab_type": "code",
        "colab": {}
      },
      "cell_type": "code",
      "source": [
        "model_ft, input_size = initialize_model(model_name, num_classes, feature_extract, use_pretrained=True)\n",
        "print(model_ft)"
      ],
      "execution_count": 0,
      "outputs": []
    },
    {
      "metadata": {
        "id": "QPJqgahY9axR",
        "colab_type": "text"
      },
      "cell_type": "markdown",
      "source": [
        "### Data Augmentation and Loader"
      ]
    },
    {
      "metadata": {
        "id": "oXf2-1L2an20",
        "colab_type": "code",
        "colab": {}
      },
      "cell_type": "code",
      "source": [
        "data_transforms = {\n",
        "    'train': transforms.Compose([\n",
        "        transforms.RandomResizedCrop(input_size),\n",
        "        transforms.RandomHorizontalFlip(),\n",
        "        transforms.ToTensor(),\n",
        "        transforms.Normalize([0.485, 0.456, 0.406], [0.229, 0.224, 0.225])\n",
        "    ]),\n",
        "}\n",
        "\n",
        "print(\"Initializing Datasets and Dataloaders...\")\n",
        "\n",
        "image_datasets = {x: datasets.ImageFolder(os.path.join(data_dir, x), data_transforms[x]) for x in ['train']}\n",
        "print(image_datasets[\"train\"].classes)\n",
        "dataloaders_dict = {x: torch.utils.data.DataLoader(image_datasets[x], batch_size=batch_size, shuffle=True, num_workers=4) for x in ['train']}\n"
      ],
      "execution_count": 0,
      "outputs": []
    },
    {
      "metadata": {
        "id": "VhA0ZeFl9htU",
        "colab_type": "text"
      },
      "cell_type": "markdown",
      "source": [
        "### Check for GPU availiability"
      ]
    },
    {
      "metadata": {
        "id": "tOU8-f6Can23",
        "colab_type": "code",
        "colab": {}
      },
      "cell_type": "code",
      "source": [
        "device = torch.device(\"cuda:0\" if torch.cuda.is_available() else \"cpu\")\n",
        "print(device)\n",
        "model_ft = model_ft.to(device)\n",
        "print(model_ft)"
      ],
      "execution_count": 0,
      "outputs": []
    },
    {
      "metadata": {
        "id": "Dtn4Q5U29vkP",
        "colab_type": "text"
      },
      "cell_type": "markdown",
      "source": [
        "### Parameters to train and Optimizer"
      ]
    },
    {
      "metadata": {
        "id": "f0QgqtORan25",
        "colab_type": "code",
        "colab": {}
      },
      "cell_type": "code",
      "source": [
        "params_to_update = model_ft.parameters()\n",
        "print(\"Params to learn:\")\n",
        "\n",
        "if feature_extract:\n",
        "    params_to_update = []\n",
        "    for name,param in model_ft.named_parameters():\n",
        "        if param.requires_grad == True:\n",
        "            params_to_update.append(param)\n",
        "            print(\"\\t\",name)\n",
        "else:\n",
        "    for name,param in model_ft.named_parameters():\n",
        "        if param.requires_grad == True:\n",
        "            print(\"\\t\",name)"
      ],
      "execution_count": 0,
      "outputs": []
    },
    {
      "metadata": {
        "id": "lrqrUeIIan28",
        "colab_type": "code",
        "colab": {}
      },
      "cell_type": "code",
      "source": [
        "optimizer_ft = optim.SGD(params_to_update, lr=0.001, momentum=0.9)"
      ],
      "execution_count": 0,
      "outputs": []
    },
    {
      "metadata": {
        "id": "amv77dkBfFrC",
        "colab_type": "text"
      },
      "cell_type": "markdown",
      "source": [
        "### Load saved model, if any"
      ]
    },
    {
      "metadata": {
        "id": "4NgJ4vKRan2-",
        "colab_type": "code",
        "colab": {}
      },
      "cell_type": "code",
      "source": [
        "#Load saved model, if any\n",
        "#model_ft.load_state_dict(torch.load('all/saved_models/dog-breed-resnet18_24.pth'))"
      ],
      "execution_count": 0,
      "outputs": []
    },
    {
      "metadata": {
        "id": "s0vTwCYNfPFT",
        "colab_type": "text"
      },
      "cell_type": "markdown",
      "source": [
        "### Loss Function"
      ]
    },
    {
      "metadata": {
        "id": "TPuDFCNuan3B",
        "colab_type": "code",
        "colab": {}
      },
      "cell_type": "code",
      "source": [
        "criterion = nn.CrossEntropyLoss()"
      ],
      "execution_count": 0,
      "outputs": []
    },
    {
      "metadata": {
        "id": "jwkFjbU7Q4EY",
        "colab_type": "text"
      },
      "cell_type": "markdown",
      "source": [
        "### Train Model and Plot Training Graph"
      ]
    },
    {
      "metadata": {
        "id": "zApx7ddQan3F",
        "colab_type": "code",
        "outputId": "e2bdf429-0dda-4cf4-f749-ad896d5f5fb2",
        "colab": {
          "base_uri": "https://localhost:8080/",
          "height": 7210
        }
      },
      "cell_type": "code",
      "source": [
        "model_ft, hist = train_model(model_ft, dataloaders_dict, criterion, optimizer_ft, num_epochs=num_epochs)\n",
        "\n",
        "ohist = []\n",
        "ohist = [h.cpu().numpy() for h in hist]\n",
        "plt.title(\"Training Accuracy vs. Number of Training Epochs\")\n",
        "plt.xlabel(\"Training Epochs\")\n",
        "plt.ylabel(\"Training Accuracy\")\n",
        "plt.plot(range(1,num_epochs+1),ohist,label=\"Pretrained over ImageNet\")\n",
        "plt.ylim((0,1.))\n",
        "plt.xticks(np.arange(1, num_epochs+1, 1.0))\n",
        "plt.legend()\n",
        "plt.savefig('train-vs-epoch.png')"
      ],
      "execution_count": 19,
      "outputs": [
        {
          "output_type": "stream",
          "text": [
            "Epoch 0/99\n",
            "----------\n",
            "train Loss: 3.0198 Acc: 0.2973\n",
            "\n",
            "Epoch 1/99\n",
            "----------\n",
            "train Loss: 1.9860 Acc: 0.4826\n",
            "\n",
            "Epoch 2/99\n",
            "----------\n",
            "train Loss: 1.7956 Acc: 0.5247\n",
            "\n",
            "Epoch 3/99\n",
            "----------\n",
            "train Loss: 1.7126 Acc: 0.5434\n",
            "\n",
            "Epoch 4/99\n",
            "----------\n",
            "train Loss: 1.6374 Acc: 0.5603\n",
            "\n",
            "Epoch 5/99\n",
            "----------\n",
            "train Loss: 1.5708 Acc: 0.5814\n",
            "\n",
            "Epoch 6/99\n",
            "----------\n",
            "train Loss: 1.4731 Acc: 0.5983\n",
            "\n",
            "Epoch 7/99\n",
            "----------\n",
            "train Loss: 1.4654 Acc: 0.5989\n",
            "\n",
            "Epoch 8/99\n",
            "----------\n",
            "train Loss: 1.4118 Acc: 0.6198\n",
            "\n",
            "Epoch 9/99\n",
            "----------\n",
            "train Loss: 1.3843 Acc: 0.6271\n",
            "\n",
            "Epoch 10/99\n",
            "----------\n",
            "train Loss: 1.3316 Acc: 0.6406\n",
            "\n",
            "Epoch 11/99\n",
            "----------\n",
            "train Loss: 1.3165 Acc: 0.6428\n",
            "\n",
            "Epoch 12/99\n",
            "----------\n",
            "train Loss: 1.2674 Acc: 0.6614\n",
            "\n",
            "Epoch 13/99\n",
            "----------\n",
            "train Loss: 1.2503 Acc: 0.6625\n",
            "\n",
            "Epoch 14/99\n",
            "----------\n",
            "train Loss: 1.2462 Acc: 0.6596\n",
            "\n",
            "Epoch 15/99\n",
            "----------\n",
            "train Loss: 1.1896 Acc: 0.6779\n",
            "\n",
            "Epoch 16/99\n",
            "----------\n",
            "train Loss: 1.1580 Acc: 0.6850\n",
            "\n",
            "Epoch 17/99\n",
            "----------\n",
            "train Loss: 1.1442 Acc: 0.6934\n",
            "\n",
            "Epoch 18/99\n",
            "----------\n",
            "train Loss: 1.1263 Acc: 0.6971\n",
            "\n",
            "Epoch 19/99\n",
            "----------\n",
            "train Loss: 1.1069 Acc: 0.7003\n",
            "\n",
            "Epoch 20/99\n",
            "----------\n",
            "train Loss: 1.0893 Acc: 0.7083\n",
            "\n",
            "Epoch 21/99\n",
            "----------\n",
            "train Loss: 1.0644 Acc: 0.7189\n",
            "\n",
            "Epoch 22/99\n",
            "----------\n",
            "train Loss: 1.0415 Acc: 0.7161\n",
            "\n",
            "Epoch 23/99\n",
            "----------\n",
            "train Loss: 1.0341 Acc: 0.7251\n",
            "\n",
            "Epoch 24/99\n",
            "----------\n",
            "train Loss: 1.0015 Acc: 0.7299\n",
            "\n",
            "Epoch 25/99\n",
            "----------\n",
            "train Loss: 0.9887 Acc: 0.7326\n",
            "\n",
            "Epoch 26/99\n",
            "----------\n",
            "train Loss: 0.9639 Acc: 0.7393\n",
            "\n",
            "Epoch 27/99\n",
            "----------\n",
            "train Loss: 0.9497 Acc: 0.7451\n",
            "\n",
            "Epoch 28/99\n",
            "----------\n",
            "train Loss: 0.9236 Acc: 0.7539\n",
            "\n",
            "Epoch 29/99\n",
            "----------\n",
            "train Loss: 0.9175 Acc: 0.7527\n",
            "\n",
            "Epoch 30/99\n",
            "----------\n",
            "train Loss: 0.9235 Acc: 0.7500\n",
            "\n",
            "Epoch 31/99\n",
            "----------\n",
            "train Loss: 0.9199 Acc: 0.7526\n",
            "\n",
            "Epoch 32/99\n",
            "----------\n",
            "train Loss: 0.9091 Acc: 0.7558\n",
            "\n",
            "Epoch 33/99\n",
            "----------\n",
            "train Loss: 0.9005 Acc: 0.7572\n",
            "\n",
            "Epoch 34/99\n",
            "----------\n",
            "train Loss: 0.8763 Acc: 0.7603\n",
            "\n",
            "Epoch 35/99\n",
            "----------\n",
            "train Loss: 0.8680 Acc: 0.7660\n",
            "\n",
            "Epoch 36/99\n",
            "----------\n",
            "train Loss: 0.8410 Acc: 0.7749\n",
            "\n",
            "Epoch 37/99\n",
            "----------\n",
            "train Loss: 0.8351 Acc: 0.7770\n",
            "\n",
            "Epoch 38/99\n",
            "----------\n",
            "train Loss: 0.8194 Acc: 0.7817\n",
            "\n",
            "Epoch 39/99\n",
            "----------\n",
            "train Loss: 0.8260 Acc: 0.7820\n",
            "\n",
            "Epoch 40/99\n",
            "----------\n",
            "train Loss: 0.8107 Acc: 0.7881\n",
            "\n",
            "Epoch 41/99\n",
            "----------\n",
            "train Loss: 0.8144 Acc: 0.7831\n",
            "\n",
            "Epoch 42/99\n",
            "----------\n",
            "train Loss: 0.7998 Acc: 0.7859\n",
            "\n",
            "Epoch 43/99\n",
            "----------\n",
            "train Loss: 0.7948 Acc: 0.7890\n",
            "\n",
            "Epoch 44/99\n",
            "----------\n",
            "train Loss: 0.7813 Acc: 0.7948\n",
            "\n",
            "Epoch 45/99\n",
            "----------\n",
            "train Loss: 0.7834 Acc: 0.7919\n",
            "\n",
            "Epoch 46/99\n",
            "----------\n",
            "train Loss: 0.7837 Acc: 0.7931\n",
            "\n",
            "Epoch 47/99\n",
            "----------\n",
            "train Loss: 0.7423 Acc: 0.8069\n",
            "\n",
            "Epoch 48/99\n",
            "----------\n",
            "train Loss: 0.7503 Acc: 0.8034\n",
            "\n",
            "Epoch 49/99\n",
            "----------\n",
            "train Loss: 0.7424 Acc: 0.8058\n",
            "\n",
            "Epoch 50/99\n",
            "----------\n",
            "train Loss: 0.6902 Acc: 0.8166\n",
            "\n",
            "Epoch 51/99\n",
            "----------\n",
            "train Loss: 0.7346 Acc: 0.8054\n",
            "\n",
            "Epoch 52/99\n",
            "----------\n",
            "train Loss: 0.7078 Acc: 0.8179\n",
            "\n",
            "Epoch 53/99\n",
            "----------\n",
            "train Loss: 0.7040 Acc: 0.8172\n",
            "\n",
            "Epoch 54/99\n",
            "----------\n",
            "train Loss: 0.6921 Acc: 0.8181\n",
            "\n",
            "Epoch 55/99\n",
            "----------\n",
            "train Loss: 0.7100 Acc: 0.8107\n",
            "\n",
            "Epoch 56/99\n",
            "----------\n",
            "train Loss: 0.7095 Acc: 0.8128\n",
            "\n",
            "Epoch 57/99\n",
            "----------\n",
            "train Loss: 0.7059 Acc: 0.8102\n",
            "\n",
            "Epoch 58/99\n",
            "----------\n",
            "train Loss: 0.6695 Acc: 0.8233\n",
            "\n",
            "Epoch 59/99\n",
            "----------\n",
            "train Loss: 0.6631 Acc: 0.8270\n",
            "\n",
            "Epoch 60/99\n",
            "----------\n",
            "train Loss: 0.6649 Acc: 0.8230\n",
            "\n",
            "Epoch 61/99\n",
            "----------\n",
            "train Loss: 0.6526 Acc: 0.8271\n",
            "\n",
            "Epoch 62/99\n",
            "----------\n",
            "train Loss: 0.6619 Acc: 0.8266\n",
            "\n",
            "Epoch 63/99\n",
            "----------\n",
            "train Loss: 0.6601 Acc: 0.8258\n",
            "\n",
            "Epoch 64/99\n",
            "----------\n",
            "train Loss: 0.6702 Acc: 0.8246\n",
            "\n",
            "Epoch 65/99\n",
            "----------\n",
            "train Loss: 0.6567 Acc: 0.8284\n",
            "\n",
            "Epoch 66/99\n",
            "----------\n",
            "train Loss: 0.6353 Acc: 0.8356\n",
            "\n",
            "Epoch 67/99\n",
            "----------\n",
            "train Loss: 0.6158 Acc: 0.8370\n",
            "\n",
            "Epoch 68/99\n",
            "----------\n",
            "train Loss: 0.6215 Acc: 0.8357\n",
            "\n",
            "Epoch 69/99\n",
            "----------\n",
            "train Loss: 0.6106 Acc: 0.8409\n",
            "\n",
            "Epoch 70/99\n",
            "----------\n",
            "train Loss: 0.6198 Acc: 0.8357\n",
            "\n",
            "Epoch 71/99\n",
            "----------\n",
            "train Loss: 0.6478 Acc: 0.8320\n",
            "\n",
            "Epoch 72/99\n",
            "----------\n",
            "train Loss: 0.6437 Acc: 0.8303\n",
            "\n",
            "Epoch 73/99\n",
            "----------\n",
            "train Loss: 0.5959 Acc: 0.8480\n",
            "\n",
            "Epoch 74/99\n",
            "----------\n",
            "train Loss: 0.6224 Acc: 0.8379\n",
            "\n",
            "Epoch 75/99\n",
            "----------\n",
            "train Loss: 0.5895 Acc: 0.8444\n",
            "\n",
            "Epoch 76/99\n",
            "----------\n",
            "train Loss: 0.6020 Acc: 0.8426\n",
            "\n",
            "Epoch 77/99\n",
            "----------\n",
            "train Loss: 0.5715 Acc: 0.8503\n",
            "\n",
            "Epoch 78/99\n",
            "----------\n",
            "train Loss: 0.5822 Acc: 0.8458\n",
            "\n",
            "Epoch 79/99\n",
            "----------\n",
            "train Loss: 0.5975 Acc: 0.8430\n",
            "\n",
            "Epoch 80/99\n",
            "----------\n",
            "train Loss: 0.5833 Acc: 0.8511\n",
            "\n",
            "Epoch 81/99\n",
            "----------\n",
            "train Loss: 0.5741 Acc: 0.8496\n",
            "\n",
            "Epoch 82/99\n",
            "----------\n",
            "train Loss: 0.5736 Acc: 0.8479\n",
            "\n",
            "Epoch 83/99\n",
            "----------\n",
            "train Loss: 0.5723 Acc: 0.8480\n",
            "\n",
            "Epoch 84/99\n",
            "----------\n",
            "train Loss: 0.5738 Acc: 0.8508\n",
            "\n",
            "Epoch 85/99\n",
            "----------\n",
            "train Loss: 0.5642 Acc: 0.8480\n",
            "\n",
            "Epoch 86/99\n",
            "----------\n",
            "train Loss: 0.5611 Acc: 0.8510\n",
            "\n",
            "Epoch 87/99\n",
            "----------\n",
            "train Loss: 0.5454 Acc: 0.8556\n",
            "\n",
            "Epoch 88/99\n",
            "----------\n",
            "train Loss: 0.5550 Acc: 0.8545\n",
            "\n",
            "Epoch 89/99\n",
            "----------\n",
            "train Loss: 0.5624 Acc: 0.8584\n",
            "\n",
            "Epoch 90/99\n",
            "----------\n",
            "train Loss: 0.5734 Acc: 0.8492\n",
            "\n",
            "Epoch 91/99\n",
            "----------\n",
            "train Loss: 0.5266 Acc: 0.8630\n",
            "\n",
            "Epoch 92/99\n",
            "----------\n",
            "train Loss: 0.5176 Acc: 0.8637\n",
            "\n",
            "Epoch 93/99\n",
            "----------\n",
            "train Loss: 0.5412 Acc: 0.8618\n",
            "\n",
            "Epoch 94/99\n",
            "----------\n",
            "train Loss: 0.5187 Acc: 0.8652\n",
            "\n",
            "Epoch 95/99\n",
            "----------\n",
            "train Loss: 0.5096 Acc: 0.8669\n",
            "\n",
            "Epoch 96/99\n",
            "----------\n",
            "train Loss: 0.5059 Acc: 0.8700\n",
            "\n",
            "Epoch 97/99\n",
            "----------\n",
            "train Loss: 0.5367 Acc: 0.8579\n",
            "\n",
            "Epoch 98/99\n",
            "----------\n",
            "train Loss: 0.5374 Acc: 0.8592\n",
            "\n",
            "Epoch 99/99\n",
            "----------\n",
            "train Loss: 0.5186 Acc: 0.8595\n",
            "\n",
            "Training complete in 212m 57s\n",
            "Best Training Acc: 0.869986\n"
          ],
          "name": "stdout"
        },
        {
          "output_type": "display_data",
          "data": {
            "image/png": "[encoded data removed]",
            "text/plain": [
              "<matplotlib.figure.Figure at 0x7f320f323da0>"
            ]
          },
          "metadata": {
            "tags": []
          }
        }
      ]
    },
    {
      "metadata": {
        "id": "0PojZKy0N3t8",
        "colab_type": "text"
      },
      "cell_type": "markdown",
      "source": [
        "### Save Training Accuracies for Comparison"
      ]
    },
    {
      "metadata": {
        "id": "xaO_9eDkMBEK",
        "colab_type": "code",
        "colab": {}
      },
      "cell_type": "code",
      "source": [
        "with open('training_accuracies.txt', 'w') as filehandle:  \n",
        "    filehandle.writelines(\"%s\\n\" % value for value in ohist)"
      ],
      "execution_count": 0,
      "outputs": []
    },
    {
      "metadata": {
        "id": "-aLBKO1tN9Uv",
        "colab_type": "text"
      },
      "cell_type": "markdown",
      "source": [
        "### Generate CSV file for Kaggle evaluation"
      ]
    },
    {
      "metadata": {
        "id": "1GmpO1sFNHN_",
        "colab_type": "code",
        "colab": {}
      },
      "cell_type": "code",
      "source": [
        "test = transforms.Compose([\n",
        "        transforms.Resize((224,224)),\n",
        "        transforms.ToTensor(),\n",
        "        transforms.Normalize([0.485, 0.456, 0.406], [0.229, 0.224, 0.225])\n",
        "])\n",
        "\n",
        "model_ft.eval()\n",
        "\n",
        "with open('submission_file.csv', mode='w') as submission_file:\n",
        "  \n",
        "  submission_writer = csv.writer(submission_file, delimiter=',', quotechar='\"', quoting=csv.QUOTE_MINIMAL)\n",
        "  \n",
        "  headings = ['id'] + image_datasets[\"train\"].classes\n",
        "  submission_writer.writerow(headings)\n",
        "\n",
        "  onlyfiles = [f for f in os.listdir('all/test/') if os.path.isfile(os.path.join('all/test/', f))]\n",
        "  \n",
        "  for i in range(0,len(onlyfiles)):\n",
        "    \n",
        "    input_image = test(Image.open('all/test/' + onlyfiles[i])).unsqueeze(0)\n",
        "    input_image = input_image.to(device)\n",
        "\n",
        "    output = model_ft(input_image)\n",
        "    output = F.softmax(output, dim=1)\n",
        "    output = output.squeeze().detach().cpu().numpy()\n",
        "    output = [str(i) for i in output]\n",
        "    \n",
        "    file_str = str(onlyfiles[i])\n",
        "    temp = file_str.split('.')\n",
        "    row = [temp[0]] + output\n",
        "    submission_writer.writerow(row)"
      ],
      "execution_count": 0,
      "outputs": []
    }
  ]
}